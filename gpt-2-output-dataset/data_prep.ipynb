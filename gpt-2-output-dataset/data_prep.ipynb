{
 "cells": [
  {
   "cell_type": "markdown",
   "metadata": {},
   "source": [
    "First task: My detector code wants three .jsonl files for test, train and val. I have one csv that need to be split accordingly and converted to jsonl"
   ]
  },
  {
   "cell_type": "code",
   "execution_count": 4,
   "metadata": {},
   "outputs": [],
   "source": [
    "import csv\n",
    "import json\n",
    "\n",
    "paths_to_convert = [\"/Users/dustinhayes/Desktop/DEEP LEARNING FINAL PROJECT/test.csv\",\n",
    "                    \"/Users/dustinhayes/Desktop/DEEP LEARNING FINAL PROJECT/validation.csv\",\n",
    "                    \"/Users/dustinhayes/Desktop/DEEP LEARNING FINAL PROJECT/train.csv\"]\n",
    "paths_to_gain = [\"test.jsonl\", \"validation.jsonl\", \"train.jsonl\"]\n",
    "\n",
    "for start_path, end_path in zip(paths_to_convert, paths_to_gain):\n",
    "    with open(start_path, mode='r', encoding='utf-8') as csv_file, \\\n",
    "        open(end_path, mode='w', encoding='utf-8') as jsonl_file:\n",
    "\n",
    "        reader = csv.DictReader(csv_file)\n",
    "        for row in reader:\n",
    "            jsonl_file.write(json.dumps(row) + '\\n')\n"
   ]
  },
  {
   "cell_type": "code",
   "execution_count": 2,
   "metadata": {},
   "outputs": [],
   "source": [
    "import pandas as pd"
   ]
  }
 ],
 "metadata": {
  "kernelspec": {
   "display_name": "detector_env",
   "language": "python",
   "name": "python3"
  },
  "language_info": {
   "codemirror_mode": {
    "name": "ipython",
    "version": 3
   },
   "file_extension": ".py",
   "mimetype": "text/x-python",
   "name": "python",
   "nbconvert_exporter": "python",
   "pygments_lexer": "ipython3",
   "version": "3.11.5"
  },
  "orig_nbformat": 4
 },
 "nbformat": 4,
 "nbformat_minor": 2
}

{
 "cells": [
  {
   "cell_type": "markdown",
   "metadata": {},
   "source": [
    "Let's use this to test our modified dataset.py module"
   ]
  },
  {
   "cell_type": "code",
   "execution_count": 1,
   "metadata": {},
   "outputs": [
    {
     "name": "stderr",
     "output_type": "stream",
     "text": [
      "/Users/dustinhayes/Desktop/DEEP LEARNING FINAL PROJECT/venv/lib/python3.11/site-packages/tqdm/auto.py:21: TqdmWarning: IProgress not found. Please update jupyter and ipywidgets. See https://ipywidgets.readthedocs.io/en/stable/user_install.html\n",
      "  from .autonotebook import tqdm as notebook_tqdm\n"
     ]
    },
    {
     "name": "stdout",
     "output_type": "stream",
     "text": [
      "<class 'int'>\n"
     ]
    }
   ],
   "source": [
    "from dataset import load_texts, Corpus, EncodedDataset\n",
    "\n",
    "train_texts, train_labels = load_texts('Data/validation.jsonl')\n",
    "\n",
    "print(type(train_labels[0]))\n",
    "# Seems to work fine"
   ]
  },
  {
   "cell_type": "code",
   "execution_count": 2,
   "metadata": {},
   "outputs": [
    {
     "name": "stdout",
     "output_type": "stream",
     "text": [
      "\n",
      "\n",
      "This paper studies the prevalence of Influenza C in young children with respiratory infections using retrospective data from 2012 to 2014 from the national influenza surveillance system in Germany. Recent evidence has shown that Influenza C virus infection manifesting as a primary onset is becoming increasingly common amongst very young children, which presents a potential public health risk and necessitates continued research. This study aims to provide fresh insights into this critical issue by exploring past information on the occurrence of Infectious Bronchitis Virus (IBV) caused by an Influenza C virus among pre-school children with respiratory infections over three years within Germany’s collective healthcare system. Therefore, utilising existing data collected during our specified period for anthropological analysis we intend to shed further light on this important problem and aid future initiatives set out to counteract it more effectively.\n",
      "The phenylalanine–tyrosine–dopa–dopamine pathway provides dopamine to the brain. In this process, tyrosine hydroxylase (TH) is the rate-limiting enzyme that hydroxylates tyrosine and generates levodopa (l-dopa) with tetrahydrobiopterin (BH(4)) as a coenzyme. Here, we show that oral berberine (BBR) might supply H(•) through dihydroberberine (reduced BBR produced by bacterial nitroreductase) and promote the production of BH(4) from dihydrobiopterin; the increased BH(4) enhances TH activity, which accelerates the production of l-dopa by the gut bacteria. Oral BBR acts in a way similar to vitamins. The l-dopa produced by the intestinal bacteria enters the brain through the circulation and is transformed to dopamine. To verify the gut–brain dialog activated by BBR’s effect, Enterococcus faecalis or Enterococcus faecium was transplanted into Parkinson’s disease (PD) mice. The bacteria significantly increased brain dopamine and ameliorated PD manifestation in mice; additionally, combination of BBR with bacteria showed better therapeutic effect than that with bacteria alone. Moreover, 2,4,6-trimethyl-pyranylium tetrafluoroborate (TMP-TFB)-derivatized matrix-assisted laser desorption mass spectrometry (MALDI-MS) imaging of dopamine identified elevated striatal dopamine levels in mouse brains with oral Enterococcus, and BBR strengthened the imaging intensity of brain dopamine. These results demonstrated that BBR was an agonist of TH in Enterococcus and could lead to the production of l-dopa in the gut. Furthermore, a study of 28 patients with hyperlipidemia confirmed that oral BBR increased blood/fecal l-dopa by the intestinal bacteria. Hence, BBR might improve the brain function by upregulating the biosynthesis of l-dopa in the gut microbiota through a vitamin-like effect.\n",
      "\n",
      "\n",
      "In the present day, emerging flaviviruses pose a significant global health threat due to rapid transmission and severe associated morbidity. Thus, effective antiviral treatments must be quickly established in order to prevent further spread of these diseases. This study aimed to evaluate the antiviral effects of Benzavir-2 against emerging flaviviruses by conducting both in vitro and ex vivo experiments with cell lines that were infected with various relevantly related viruses. The results revealed that Benzavir-2 has potent inhibitory activity against influenza A (H1N1), West Nile fever virus, tick borne encephalitis virus, Zika virus and Influenza B (Victoria lineage). Furthermore, exposure to the drug led to reduced viral titre during incubation times up to 48 hours post infection along with altered morphology resembling apoptosis in infected cells when probed using fluorescence microscopy. These findings suggest that Benzavir-2 may serve as a potential therapeutic option for treating cases of emerging Flavivirus infections.\n",
      "\n",
      "\n",
      "This article will explore the latest advances in understanding of Angiotensin Converting Enzyme 2-Angiotensin (1–7)-Mas Receptor axis, one of the key players in cardiovascular physiology. We address recent insights into fetal programing, sex differences and intracellular pathways associated with this system. To date, little research has considered how ACE2-angiotesin (1–7)-Mas receptor axis plays a role in regulating cardiac performance across multiple species including nephrology creatures and zebrafish. Moreover, current knowledge on this topic is mostly limited to models using cell lines or isolated tissues; we hypothesize further studies involving whole organisms may lead to new discoveries regarding mechanism at work within this system with regards to normal physiological function as well as disease states. Subsequently, our review provides an updated overview based on research conducted over the past decade that elucidates novel clues behind regulation of cardiovascular performance by ACE2-angiotesin (1–7)- Mas receptor axis focusing primarily on complex conditions related to sex hormones as well as diabetes mellitus type 2 affected persons. It begins by analyzing effects from exposure during embryonic development through late life stages before exploring intricate aspects concerning downstream signaling pathways involved such as calcineurin/NFATc4 pathway activation for angiotensin II mediated hypertension among renal cells lacking BMP9 gene expression or P38MAPK pathway induction triggered by ace-MAA binding leading to anatomical changes activated via mesenchyme self renewing growth factors like Wnt/beta catenins for progenitor recruitment under negative Erkl/2 kinase stress levels during high vitality periods periodical awakenings upon epigenetic transposons influencing heredity outcomes going beyond age limitations allowing personal sin time epigenome rebuilding processes away lung renewal activity might be opportunities yesteryear not today tomorrow future until then us all living beings need more substance purpose towards surrounding betterment non-democratic civilized dialogues metaphysical peace alignments integrations harmonic togetherness it’s ok that way go stay positive don’t ever forget sharing caring loving other than you fool yourself pity never help anyone therefore thank while falling asleep…  \n",
      "Respiratory RNA viruses are constantly evolving, thus requiring development of additional prophylactic and therapeutic strategies. Harnessing the innate immune system to non-specifically respond to viral infection has the advantage of being able to circumvent viral mutations that render the virus resistant to a particular therapeutic agent. Viruses are recognized by various cellular receptors, including Toll-like receptor (TLR) 3 which recognizes double-stranded (ds)RNA produced during the viral replication cycle. TLR3 agonists include synthetic dsRNA such as poly (IC), poly (ICLC) and poly (AU). These agents have been evaluated and found to be effective against a number of viral agents. One major limitation has been the toxicity associated with administration of these drugs. Significant time and effort have been spent to develop alternatives/modifications that will minimize these adverse effects. This review will focus on the TLR3 agonist, poly (IC)/(ICLC) with respect to its use in treatment/prevention of respiratory viral infections.\n",
      "BACKGROUND: The 2009 pandemic of influenza A (H1N1) infection has alerted many governments to make preparedness plan to control the spread of influenza A (H1N1) infection. Vaccination for influenza is one of the most important primary preventative measures to reduce the disease burden. Our study aims to assess the willingness of nurses who work for the community nursing service (CNS) in Hong Kong on their acceptance of influenza A (H1N1) influenza vaccination. METHODS: 401 questionnaires were posted from June 24, 2009 to June 30, 2009 to community nurses with 67% response rate. Results of the 267 respondents on their willingness to accept influenza A (H1N1) vaccine were analyzed. RESULTS: Twenty-seven percent of respondents were willing to accept influenza vaccination if vaccines were available. Having been vaccinated for seasonable influenza in the previous 12 months were significantly independently associated with their willingness to accept influenza A (H1N1) vaccination (OR = 4.03; 95% CI: 2.03-7.98). CONCLUSIONS: Similar to previous findings conducted in hospital healthcare workers and nurses, we confirmed that the willingness of community nurses to accept influenza A (H1N1) vaccination is low. Future studies that evaluate interventions to address nurses' specific concerns or interventions that aim to raise the awareness among nurses on the importance of influenza A (H1N1) vaccination to protect vulnerable patient populations is needed.\n",
      "\n",
      "\n",
      "This article investigates the potential efficacy of using machine learning models to accurately diagnose suicide ideation/behavior among university students in the MENA region. Through a rigorous combination of data collecting, machine learning algorithms and statistical analysis, this study attempts to create an intuitive mechanism to identify high-risk individuals for early intervention and preventive healthcare. The proposed ensemble model is evaluated on behavioral attributes collected from over 200 student participants at various universities in the MENA region. Model performance is compared against classical supervised methods such as Random Forest and Support Vector Machines (SVM). Results indicate that our proposed method proved more robust than traditional approaches for diagnosing suicidal thoughts or actions with outlier detection capabilities also explored through explaining global stability metrics across datasets changes.\n",
      "Background: Respiratory Syncytial Virus (RSV) is the major cause of severe acute respiratory tract illness in young children worldwide and a main pathogen for the elderly and immune-compromised people. In the absence of vaccines or effective treatments, a better characterization of the pathogenesis of RSV infection is required. To date, the pathophysiology of the disease and its diagnosis has mostly relied on chest X-ray and genome detection in nasopharyngeal swabs. The development of new imaging approaches is instrumental to further the description of RSV spread, virus–host interactions and related acute respiratory disease, at the level of the entire lung. Methods: By combining tissue clearing, 3D microscopy and image processing, we developed a novel visualization tool of RSV infection in undissected mouse lungs. Results: Whole tissue analysis allowed the identification of infected cell subtypes, based on both morphological traits and position within the cellular network. Furthermore, 3D imaging was also valuable to detect the cytoplasmic viral factories, also called inclusion bodies, a hallmark of RSV infection. Conclusions: Whole lung clearing and 3D deep imaging represents an unprecedented visualization method of infected lungs to allow insight into RSV pathophysiology and improve the 2D histology analyses.\n",
      " \n",
      "\n",
      "This study presents a systematic high-throughput ligand discovery approach to accurately characterize protein structural variation in advanced evolved hydrophilic fibronectin domains. A new methodology was developed utilizing an integrated protocol of target family specific library synthesis, benchmarking and natural product screening to assess the ligand selectivity for a representative set of twenty proteins with diverse structures. The analysis revealed that the proteins exhibited significantly different mechanismof binding lactam peptides, depending on their evolutionary divergence from each other. Notably, site variance within the distinct subfamilies generated distinguished patterns of selectivity profiling which established a strong correlation between genetic ancestry and selectivity profile diversity in this group. These findings provide key insights into how selection constraints imposed by complex environmental factors cumulatively createsitewise gradients of chemical recognition that pose important challenges for both pharmaceutical lead identification and drug design initiatives aiming at broader efficacy levels across multiple targets families.\n",
      "\n",
      "\n",
      "This study explores the utilization of blood microfilters for clinical practice. The primary objective is to examine the current applications and benefits of incorporating blood microfilters into health care systems, with a focus on safety, cost-effectiveness and efficacy. Using a comprehensive review process involving experts in various fields, this research will assess key factors influencing the optimisation of patient outcomes when utilizing these devices. Ultimately, we seek to establish whether their use warrants consideration based on today’s evidence.\n",
      "BACKGROUND: Limited data are available on practical predictors of successful de-cannulation among the patients who undergo tracheostomies. We evaluated factors associated with failed de-cannulations to develop a prediction model that could be easily be used at the time of weaning from MV. METHODS: In a retrospective cohort of 346 tracheostomised patients managed by a standardized de-cannulation program, multivariable logistic regression analysis identified variables that were independently associated with failed de-cannulation. Based on the logistic regression analysis, the new predictive scoring system for successful de-cannulation, referred to as the DECAN score, was developed and then internally validated. RESULTS: The model included age > 67 years, body mass index < 22 kg/m(2), underlying malignancy, non-respiratory causes of mechanical ventilation (MV), presence of neurologic disease, vasopressor requirement, and presence of post-tracheostomy pneumonia, presence of delirium. The DECAN score was associated with good calibration (goodness-of-fit, 0.6477) and discrimination outcomes (area under the receiver operating characteristic curve 0.890, 95% CI 0.853–0.921). The optimal cut-off point for the DECAN score for the prediction of the successful de-cannulation was ≤ 5 points, and was associated with the specificities of 84.6% (95% CI 77.7–90.0) and sensitivities of 80.2% (95% CI 73.9–85.5). CONCLUSIONS: The DECAN score for tracheostomised patients who are successfully weaned from prolonged MV can be computed at the time of weaning to assess the probability of de-cannulation based on readily available variables.\n",
      "Seven fragments of the spike (S) gene cDNA of transmissible gastroenteritis virus (TGEV), as well as the full length cDNA, were cloned and expressed in baculovirus vectors. Piglets were immunized with cells infected with the recombinant viruses. Each of the recombinants induced TGEV-specific antibodies detected in a fixed cell enzyme immunoassay. The amino terminal half of the S protein, containing all four major antigenic sites (A, B, C and D), and encoded by a 2.2 kb fragment of the S gene, induced virus neutralizing (VN) antibody titers comparable with those induced by the complete S protein. Recombinant proteins lacking the A antigenic site, or with a deletion including the putative receptor binding sites and the D antigenic site, were not capable of inducing levels of VN antibodies similar to those induced by the whole S protein.\n",
      "\n",
      "\n",
      "This article presents findings on the failure of 4′, 6-dichloroflavan to protect against rhinovirus infection in man. While previous studies have demonstrated the efficacy of this flavonoid compound in preventing multiple respiratory viruses, our research explored its effects on rhinovirus specifically and has shown disappointing results. Using a prospective controlled human trial over a period of 10 weeks, we observed no clinical or immunological difference between participants who had ingested 4′ 6-dichloroflavan compared with those in the control group who did not ingest any supplement. These results suggest that 4’6-dichloroflavan is unable to provide protection against rhinovirus infections in humans despite also having antiviral action against other viruses.\n",
      "\n",
      "\n",
      "This study explores the potential affect of early life oxygen exposure on proper lung development and response to respiratory infections in humans. The research objective is to assess whether varying oxygen exposure during pre-birth, birth and infancy can lead to an increased risk of adverse respiratory health outcomes later in life. It highlights important considerations for prenatal and neonatal care providers as the analysis assesses both positive and negative affects of different types of oxygen administration in typical breathing patterns since conception. Results from this investigation will provide insight into how healthcare decisions related to neonatal oxygen administration could potentially lead to improved long-term health outcomes.\n",
      "\n",
      "\n",
      "This paper presents a comprehensive review of advancements in deep learning-based optical coherence tomography (OCT) image segmentation for explainable artificial intelligence (AI). This analysis comes amidst ongoing discussions on the usage and interpretation of complex AI models, the need for interpretability has gained momentum. To this end, elaborate exploration into leveraging various facets of OCT to accurately detect abnormalities through an effective automated solution is necessary. A novel approach will be taken by examining different aspects of deformable convolutional networks with addition layers dedicated to handling illumination artifacts and improving texture features from gray-scale OCT images. Lastly, a dataset with pathological biomolecular rules will be used as metrics to adequately train the model while methods like importance scoring and adversarial removal sampling strategies are explored to enable better understanding at both global and local levels. Results suggest viable solutions that prioritize pathologic tissue segmentation clarity while enhancing pre-existing components towards attaining maximum interpretability thus further augmenting applications of this technology in healthcare sciences\n"
     ]
    }
   ],
   "source": [
    "corpus = Corpus()\n",
    "for text in corpus.test_texts[0:15]:\n",
    "    print(text)\n",
    "\n",
    "# Also seems to work"
   ]
  },
  {
   "cell_type": "code",
   "execution_count": 3,
   "metadata": {},
   "outputs": [
    {
     "name": "stdout",
     "output_type": "stream",
     "text": [
      "Input IDs: tensor([    0, 50118, 50118,   713,  2225,  6822,    10,  5808,  1548,    13,\n",
      "        16570,   443,  2835,  1258,    11, 41289, 44981,  2389, 31424,    36,\n",
      "        44903,    43,   716,    15,    41, 29854, 17997,  9184,    12, 46617,\n",
      "         9205,     8,    10,  8248,  2064, 26897, 44304,  3658,    36,  1864,\n",
      "          250,  1729,    12,  5433, 20057,   322,    20, 30477, 15928,    96,\n",
      "        27527,  4052, 14377,  8244, 25212, 17194,    16,   341,     7,   465,\n",
      "            5, 19329, 17294,    13, 15293,     5, 17997,  9184, 14929,     4,\n",
      "         1216, 19214,    32,   172,  5049,     7, 14660,  5616,   335,    31,\n",
      "        20398,  3156,    19,  2782,  5709, 12720,     6,   357,  2274,  1318,\n",
      "            6,     8,  2906,  6496, 25276,   731,     4,  7905,     6,    52,\n",
      "        15393,    10,   132,   495, 15380, 23794,   337,  8248,  2064, 26897,\n",
      "        44304,  3658,    25,    84, 20589,  1546,  1421,    61, 10726,     9,\n",
      "        12628, 28449,  3665,    30, 29861, 47621, 23341,     6, 10298,   201,\n",
      "            7, 12775, 36029,   349, 29597,    88,    65,     9,   484, 16570,\n",
      "         4050,  2167,     7,   430,  5612,    23,    41,   419,  1289,     9,\n",
      "         9726,     4,   166,  3253,    42,  1421,    15,  1337, 18838,  2900,\n",
      "         3156, 42532,  9499,  4972,  8611,    62,     7,  8940,  2153,  1541,\n",
      "         6177,   775,  3608,    14,  1209,   250,  1729,    12,  5433, 20057,\n",
      "           64,  3625,  1477,   258, 38163,  2078,     8, 13677,  1118,    19,\n",
      "          194,    12,  1116,     5,  1808, 16964,    11,  1110,     9, 16570,\n",
      "          443,  2835,  1258,  8558,     4,     2,     1,     1,     1,     1,\n",
      "            1,     1,     1,     1,     1,     1,     1,     1,     1,     1,\n",
      "            1,     1,     1,     1,     1,     1,     1,     1,     1,     1,\n",
      "            1,     1,     1,     1,     1,     1,     1,     1,     1,     1,\n",
      "            1,     1,     1,     1,     1,     1,     1,     1,     1,     1,\n",
      "            1,     1,     1,     1,     1,     1,     1,     1,     1,     1,\n",
      "            1,     1,     1,     1,     1,     1,     1,     1,     1,     1,\n",
      "            1,     1,     1,     1,     1,     1,     1,     1,     1,     1,\n",
      "            1,     1,     1,     1,     1,     1,     1,     1,     1,     1,\n",
      "            1,     1,     1,     1,     1,     1,     1,     1,     1,     1,\n",
      "            1,     1,     1,     1,     1,     1,     1,     1,     1,     1,\n",
      "            1,     1,     1,     1,     1,     1,     1,     1,     1,     1,\n",
      "            1,     1,     1,     1,     1,     1,     1,     1,     1,     1,\n",
      "            1,     1,     1,     1,     1,     1,     1,     1,     1,     1,\n",
      "            1,     1,     1,     1,     1,     1,     1,     1,     1,     1,\n",
      "            1,     1,     1,     1,     1,     1,     1,     1,     1,     1,\n",
      "            1,     1,     1,     1,     1,     1,     1,     1,     1,     1,\n",
      "            1,     1,     1,     1,     1,     1,     1,     1,     1,     1,\n",
      "            1,     1,     1,     1,     1,     1,     1,     1,     1,     1,\n",
      "            1,     1,     1,     1,     1,     1,     1,     1,     1,     1,\n",
      "            1,     1,     1,     1,     1,     1,     1,     1,     1,     1,\n",
      "            1,     1,     1,     1,     1,     1,     1,     1,     1,     1,\n",
      "            1,     1,     1,     1,     1,     1,     1,     1,     1,     1,\n",
      "            1,     1,     1,     1,     1,     1,     1,     1,     1,     1,\n",
      "            1,     1,     1,     1,     1,     1,     1,     1,     1,     1,\n",
      "            1,     1,     1,     1,     1,     1,     1,     1,     1,     1,\n",
      "            1,     1,     1,     1,     1,     1,     1,     1,     1,     1,\n",
      "            1,     1,     1,     1,     1,     1,     1,     1,     1,     1,\n",
      "            1,     1,     1,     1,     1,     1,     1,     1,     1,     1,\n",
      "            1,     1,     1,     1,     1,     1,     1,     1,     1,     1,\n",
      "            1,     1,     1,     1,     1,     1,     1,     1,     1,     1,\n",
      "            1,     1])\n",
      "Attention Mask: tensor([1, 1, 1, 1, 1, 1, 1, 1, 1, 1, 1, 1, 1, 1, 1, 1, 1, 1, 1, 1, 1, 1, 1, 1,\n",
      "        1, 1, 1, 1, 1, 1, 1, 1, 1, 1, 1, 1, 1, 1, 1, 1, 1, 1, 1, 1, 1, 1, 1, 1,\n",
      "        1, 1, 1, 1, 1, 1, 1, 1, 1, 1, 1, 1, 1, 1, 1, 1, 1, 1, 1, 1, 1, 1, 1, 1,\n",
      "        1, 1, 1, 1, 1, 1, 1, 1, 1, 1, 1, 1, 1, 1, 1, 1, 1, 1, 1, 1, 1, 1, 1, 1,\n",
      "        1, 1, 1, 1, 1, 1, 1, 1, 1, 1, 1, 1, 1, 1, 1, 1, 1, 1, 1, 1, 1, 1, 1, 1,\n",
      "        1, 1, 1, 1, 1, 1, 1, 1, 1, 1, 1, 1, 1, 1, 1, 1, 1, 1, 1, 1, 1, 1, 1, 1,\n",
      "        1, 1, 1, 1, 1, 1, 1, 1, 1, 1, 1, 1, 1, 1, 1, 1, 1, 1, 1, 1, 1, 1, 1, 1,\n",
      "        1, 1, 1, 1, 1, 1, 1, 1, 1, 1, 1, 1, 1, 1, 1, 1, 1, 1, 1, 1, 1, 1, 1, 1,\n",
      "        1, 1, 1, 1, 1, 1, 1, 1, 1, 1, 1, 1, 1, 1, 0, 0, 0, 0, 0, 0, 0, 0, 0, 0,\n",
      "        0, 0, 0, 0, 0, 0, 0, 0, 0, 0, 0, 0, 0, 0, 0, 0, 0, 0, 0, 0, 0, 0, 0, 0,\n",
      "        0, 0, 0, 0, 0, 0, 0, 0, 0, 0, 0, 0, 0, 0, 0, 0, 0, 0, 0, 0, 0, 0, 0, 0,\n",
      "        0, 0, 0, 0, 0, 0, 0, 0, 0, 0, 0, 0, 0, 0, 0, 0, 0, 0, 0, 0, 0, 0, 0, 0,\n",
      "        0, 0, 0, 0, 0, 0, 0, 0, 0, 0, 0, 0, 0, 0, 0, 0, 0, 0, 0, 0, 0, 0, 0, 0,\n",
      "        0, 0, 0, 0, 0, 0, 0, 0, 0, 0, 0, 0, 0, 0, 0, 0, 0, 0, 0, 0, 0, 0, 0, 0,\n",
      "        0, 0, 0, 0, 0, 0, 0, 0, 0, 0, 0, 0, 0, 0, 0, 0, 0, 0, 0, 0, 0, 0, 0, 0,\n",
      "        0, 0, 0, 0, 0, 0, 0, 0, 0, 0, 0, 0, 0, 0, 0, 0, 0, 0, 0, 0, 0, 0, 0, 0,\n",
      "        0, 0, 0, 0, 0, 0, 0, 0, 0, 0, 0, 0, 0, 0, 0, 0, 0, 0, 0, 0, 0, 0, 0, 0,\n",
      "        0, 0, 0, 0, 0, 0, 0, 0, 0, 0, 0, 0, 0, 0, 0, 0, 0, 0, 0, 0, 0, 0, 0, 0,\n",
      "        0, 0, 0, 0, 0, 0, 0, 0, 0, 0, 0, 0, 0, 0, 0, 0, 0, 0, 0, 0, 0, 0, 0, 0,\n",
      "        0, 0, 0, 0, 0, 0, 0, 0, 0, 0, 0, 0, 0, 0, 0, 0, 0, 0, 0, 0, 0, 0, 0, 0,\n",
      "        0, 0, 0, 0, 0, 0, 0, 0, 0, 0, 0, 0, 0, 0, 0, 0, 0, 0, 0, 0, 0, 0, 0, 0,\n",
      "        0, 0, 0, 0, 0, 0, 0, 0])\n",
      "Label: tensor(1)\n"
     ]
    }
   ],
   "source": [
    "from transformers import RobertaTokenizer\n",
    "\n",
    "# Initialize tokenizer\n",
    "tokenizer = RobertaTokenizer.from_pretrained('roberta-base')\n",
    "\n",
    "# Test EncodedDataset class\n",
    "encoded_dataset = EncodedDataset(corpus.train_texts, corpus.train_labels, tokenizer, max_sequence_length=512)\n",
    "# Check first item in the dataset\n",
    "input_ids, attention_mask, label = encoded_dataset[0]\n",
    "print(\"Input IDs:\", input_ids)\n",
    "print(\"Attention Mask:\", attention_mask)\n",
    "print(\"Label:\", label)"
   ]
  }
 ],
 "metadata": {
  "kernelspec": {
   "display_name": "venv",
   "language": "python",
   "name": "python3"
  },
  "language_info": {
   "codemirror_mode": {
    "name": "ipython",
    "version": 3
   },
   "file_extension": ".py",
   "mimetype": "text/x-python",
   "name": "python",
   "nbconvert_exporter": "python",
   "pygments_lexer": "ipython3",
   "version": "3.11.5"
  },
  "orig_nbformat": 4
 },
 "nbformat": 4,
 "nbformat_minor": 2
}

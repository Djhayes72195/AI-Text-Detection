{
 "cells": [
  {
   "cell_type": "code",
   "execution_count": 4,
   "metadata": {},
   "outputs": [],
   "source": [
    "from transformers import AutoTokenizer, AutoModelForSeq2SeqLM\n",
    "\n",
    "tokenizer = AutoTokenizer.from_pretrained(\"Vamsi/T5_Paraphrase_Paws\")  \n",
    "model = AutoModelForSeq2SeqLM.from_pretrained(\"Vamsi/T5_Paraphrase_Paws\").to('cpu')\n",
    "\n"
   ]
  },
  {
   "cell_type": "code",
   "execution_count": 6,
   "metadata": {},
   "outputs": [
    {
     "name": "stdout",
     "output_type": "stream",
     "text": [
      "Are you ready to call up your favorite covert celebrity? This article will show you how to do it. Try it and see for yourself that it is entirely possible! For this bizarrely simple operation you will need to collect any kinds of secret information, note every unique building and even write down every personal past or present event that occurred in the realm of the just mentioned celebrity.\n",
      "This article will show you how to call your favorite covert celebrity; try it and see for yourself that it is completely possible! For its confusingly simple operation you will need to collect any kinds of secret information, note every unique building and even write down every personal past or present event that happened in the realm of the merely mentioned celebrity.\n",
      "This article will show you how to call up your favorite, hidden celebrity - try it and see for yourself that it is completely possible! For its bafflingly simple operation you will need to collect any kinds of secret information, note every unique building, and even write down every personal past or present event that happened in the realm of the celebrity mentioned above.\n",
      " Are you ready to call up your favorite covert celebrity?  This article will show you how to do it and see for yourself that it is completely possible!\n",
      "This article will show you how to call your favorite covert celebrity, try it and see for yourself that it is completely possible! For its bafflingly simple operation you will need to collect all sorts of secret information, note every unique building and even write down every personal past or present events that happened in the realm of the just mentioned celebrity.\n"
     ]
    }
   ],
   "source": [
    "sentence = \"Are you ready to call up your favorite covert celebrity? This article will show you how to do it. Try it and see for yourself that it is completely possible! For its bafflingly simple operation you will need to collect any kinds of secret information, note every unique building, and even write down every personal past or present events that happened in the realm of one's just-mentioned celebrity.\"\n",
    "\n",
    "text =  \"paraphrase: \" + sentence + \" </s>\"\n",
    "\n",
    "encoding = tokenizer.encode_plus(text,pad_to_max_length=True, return_tensors=\"pt\")\n",
    "input_ids, attention_masks = encoding[\"input_ids\"].to(\"cpu\"), encoding[\"attention_mask\"].to(\"cpu\")\n",
    "\n",
    "\n",
    "outputs = model.generate(\n",
    "    input_ids=input_ids, attention_mask=attention_masks,\n",
    "    max_length=256,\n",
    "    do_sample=True,\n",
    "    top_k=80,\n",
    "    top_p=0.95,\n",
    "    early_stopping=True,\n",
    "    num_return_sequences=5\n",
    ")\n",
    "\n",
    "for output in outputs:\n",
    "    line = tokenizer.decode(output, skip_special_tokens=True,clean_up_tokenization_spaces=True)\n",
    "    print(line)"
   ]
  }
 ],
 "metadata": {
  "kernelspec": {
   "display_name": "detector_env",
   "language": "python",
   "name": "python3"
  },
  "language_info": {
   "codemirror_mode": {
    "name": "ipython",
    "version": 3
   },
   "file_extension": ".py",
   "mimetype": "text/x-python",
   "name": "python",
   "nbconvert_exporter": "python",
   "pygments_lexer": "ipython3",
   "version": "3.11.5"
  },
  "orig_nbformat": 4
 },
 "nbformat": 4,
 "nbformat_minor": 2
}
